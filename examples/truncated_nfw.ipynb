{
 "cells": [
  {
   "cell_type": "markdown",
   "id": "9833c6de",
   "metadata": {},
   "source": [
    "# Example with a truncated NFW profile"
   ]
  },
  {
   "cell_type": "markdown",
   "id": "9692f28f",
   "metadata": {},
   "source": [
    "## Import"
   ]
  },
  {
   "cell_type": "code",
   "execution_count": 2,
   "id": "8796a988",
   "metadata": {},
   "outputs": [],
   "source": [
    "import pygtfcode as gtf"
   ]
  },
  {
   "cell_type": "markdown",
   "id": "73da2de2",
   "metadata": {},
   "source": [
    "## Instantiate config object"
   ]
  },
  {
   "cell_type": "code",
   "execution_count": 3,
   "id": "50795fd6",
   "metadata": {},
   "outputs": [],
   "source": [
    "config = gtf.Config()"
   ]
  },
  {
   "cell_type": "markdown",
   "id": "999e04b4",
   "metadata": {},
   "source": [
    "This holds all of the parameters that are used to instantiate a State object.  These can be modified before instantiating the State.  Once the State object exists, the config object becomes an attribute of the state."
   ]
  },
  {
   "cell_type": "code",
   "execution_count": 4,
   "id": "2211574b",
   "metadata": {},
   "outputs": [
    {
     "data": {
      "text/plain": [
       "Config(\n",
       "  io=IOParams(model_no='<not evaluated>', model_dir='<not evaluated>', base_dir='/Users/yaronetokayer/YaleDrive/Research/SIDM/pygtfcode/examples', nlog=100000, drho_prof=0.1, drho_tevol=0.01, overwrite=True, chatter=True),\n",
       "  grid=GridParams(rmin=0.01, rmax=200.0, ngrid=200),\n",
       "  init=NFWParams(Mvir=3000000000.0, cvir=20.0, z=0.0),\n",
       "  sim=SimParams(a=2.256758, b=1.38, c=0.75, rho_c_halt=1500.0, sigma_m=10.0, t_halt=1000.0),\n",
       "  prec=PrecisionParams(eps_dr=1e-12, eps_dt=0.01, eps_du=0.001, epsabs=1e-06, epsrel=1e-06, max_iter_dr=20000, max_iter_v2=10)\n",
       ")"
      ]
     },
     "execution_count": 4,
     "metadata": {},
     "output_type": "execute_result"
    }
   ],
   "source": [
    "config"
   ]
  },
  {
   "cell_type": "markdown",
   "id": "89ba1f43",
   "metadata": {},
   "source": [
    "Change to a truncated NFW profile, and modify some precision parameters"
   ]
  },
  {
   "cell_type": "code",
   "execution_count": 6,
   "id": "da7f3ba8",
   "metadata": {},
   "outputs": [
    {
     "data": {
      "text/plain": [
       "Config(\n",
       "  io=IOParams(model_no='<not evaluated>', model_dir='<not evaluated>', base_dir='/Users/yaronetokayer/YaleDrive/Research/SIDM/pygtfcode/examples', nlog=100000, drho_prof=0.1, drho_tevol=0.01, overwrite=True, chatter=True),\n",
       "  grid=GridParams(rmin=0.01, rmax=200.0, ngrid=200),\n",
       "  init=TruncatedNFWParams(Mvir=3000000000.0, cvir=20.0, z=0.0, Zt=0.05938, deltaP=1e-05),\n",
       "  sim=SimParams(a=2.256758, b=1.38, c=0.75, rho_c_halt=1500.0, sigma_m=10.0, t_halt=1000.0),\n",
       "  prec=PrecisionParams(eps_dr=1e-12, eps_dt=0.001, eps_du=0.001, epsabs=1e-06, epsrel=1e-06, max_iter_dr=20000, max_iter_v2=10)\n",
       ")"
      ]
     },
     "execution_count": 6,
     "metadata": {},
     "output_type": "execute_result"
    }
   ],
   "source": [
    "config.init = \"truncated_NFW\"\n",
    "config.prec.eps_dt = 1e-3\n",
    "config.init.deltaP = 1.0e-5 # Precision parameter for numerical integration of the initial trucated NFW profile\n",
    "\n",
    "config"
   ]
  },
  {
   "cell_type": "markdown",
   "id": "7f0f9900",
   "metadata": {},
   "source": [
    "The model number is automatically set upon instatiating the state by inspecting the working directory and looking for the next available model number.  This can be overridden by specifying the model_no parameter.  If a simulation has already been run with that model number, files will be overwritten upon instantiation of the state."
   ]
  },
  {
   "cell_type": "code",
   "execution_count": null,
   "id": "6cb12934",
   "metadata": {},
   "outputs": [],
   "source": [
    "config.io.model_no = 0"
   ]
  },
  {
   "cell_type": "markdown",
   "id": "cbe5064e",
   "metadata": {},
   "source": [
    "# Instantiate the state"
   ]
  },
  {
   "cell_type": "code",
   "execution_count": 8,
   "id": "4391f6a4",
   "metadata": {},
   "outputs": [
    {
     "name": "stdout",
     "output_type": "stream",
     "text": [
      "Computing characteristic parameters for simulation...\n",
      "Generating lookup for rho(phi)...\n",
      "Computing potential profile for truncated NFW halo...\n",
      "Integrating Poisson equation outward: r = 116.793421, phi = -0.000002\n",
      "Setting up radial grid...\n",
      "Initializing profiles...\n",
      "Computing Menc: r = 115.625, m = 2.658\n",
      "Generating lookup for v2 integrand...\n",
      "Computing v2: r = 112.970, v2 = 0.000\n",
      "State initialized.\n",
      "'model_no' set to 0\n",
      "Created directory: /Users/yaronetokayer/YaleDrive/Research/SIDM/pygtfcode/examples/Model000\n",
      "Model information written to model_metadata.txt\n"
     ]
    }
   ],
   "source": [
    "state = gtf.State(config)"
   ]
  },
  {
   "cell_type": "markdown",
   "id": "ddb6ae6a",
   "metadata": {},
   "source": [
    "Plot the current state (initial state):"
   ]
  },
  {
   "cell_type": "code",
   "execution_count": 10,
   "id": "b3d6303e",
   "metadata": {},
   "outputs": [
    {
     "ename": "FileNotFoundError",
     "evalue": "/Users/yaronetokayer/YaleDrive/Research/SIDM/pygtfcode/examples/Model001/profile_0.dat not found.",
     "output_type": "error",
     "traceback": [
      "\u001b[31m---------------------------------------------------------------------------\u001b[39m",
      "\u001b[31mFileNotFoundError\u001b[39m                         Traceback (most recent call last)",
      "\u001b[36mCell\u001b[39m\u001b[36m \u001b[39m\u001b[32mIn[10]\u001b[39m\u001b[32m, line 1\u001b[39m\n\u001b[32m----> \u001b[39m\u001b[32m1\u001b[39m \u001b[43mgtf\u001b[49m\u001b[43m.\u001b[49m\u001b[43mplot_snapshots\u001b[49m\u001b[43m(\u001b[49m\u001b[43mstate\u001b[49m\u001b[43m)\u001b[49m\n",
      "\u001b[36mFile \u001b[39m\u001b[32m~/YaleDrive/Research/SIDM/pygtfcode/pygtfcode/plot/snapshot.py:212\u001b[39m, in \u001b[36mplot_snapshots\u001b[39m\u001b[34m(model, snapshots, profiles, base_dir, filepath, show, grid, for_movie)\u001b[39m\n\u001b[32m    209\u001b[39m     \u001b[38;5;28;01melse\u001b[39;00m:\n\u001b[32m    210\u001b[39m         \u001b[38;5;28;01mraise\u001b[39;00m \u001b[38;5;167;01mTypeError\u001b[39;00m(\u001b[33mf\u001b[39m\u001b[33m\"\u001b[39m\u001b[33mUnrecognized model type: \u001b[39m\u001b[38;5;132;01m{\u001b[39;00m\u001b[38;5;28mtype\u001b[39m(model)\u001b[38;5;132;01m}\u001b[39;00m\u001b[33m. Must be a State object, Config object, or integer.\u001b[39m\u001b[33m\"\u001b[39m)\n\u001b[32m--> \u001b[39m\u001b[32m212\u001b[39m data_list = [\u001b[43mextract_snapshot_data\u001b[49m\u001b[43m(\u001b[49m\u001b[43m_resolve_dir\u001b[49m\u001b[43m(\u001b[49m\u001b[43mmodel\u001b[49m\u001b[43m,\u001b[49m\u001b[43mind\u001b[49m\u001b[43m)\u001b[49m\u001b[43m)\u001b[49m \u001b[38;5;28;01mfor\u001b[39;00m ind \u001b[38;5;129;01min\u001b[39;00m snapshots]\n\u001b[32m    214\u001b[39m fig, axs = plt.subplots(\u001b[32m1\u001b[39m, n, figsize=(\u001b[32m6\u001b[39m*n, \u001b[32m5\u001b[39m))\n\u001b[32m    216\u001b[39m \u001b[38;5;28;01mif\u001b[39;00m n == \u001b[32m1\u001b[39m:\n",
      "\u001b[36mFile \u001b[39m\u001b[32m~/YaleDrive/Research/SIDM/pygtfcode/pygtfcode/plot/snapshot.py:81\u001b[39m, in \u001b[36mextract_snapshot_data\u001b[39m\u001b[34m(filename)\u001b[39m\n\u001b[32m     66\u001b[39m \u001b[38;5;28;01mdef\u001b[39;00m\u001b[38;5;250m \u001b[39m\u001b[34mextract_snapshot_data\u001b[39m(filename):\n\u001b[32m     67\u001b[39m \u001b[38;5;250m    \u001b[39m\u001b[33;03m\"\"\"\u001b[39;00m\n\u001b[32m     68\u001b[39m \u001b[33;03m    Extract data from a snapshot timestep file.\u001b[39;00m\n\u001b[32m     69\u001b[39m \n\u001b[32m   (...)\u001b[39m\u001b[32m     79\u001b[39m \u001b[33;03m        'log_r', 'log_rmid', 'm', 'rho', 'v2', 'p', 'trel', 'kn', 'time'\u001b[39;00m\n\u001b[32m     80\u001b[39m \u001b[33;03m    \"\"\"\u001b[39;00m\n\u001b[32m---> \u001b[39m\u001b[32m81\u001b[39m     data = \u001b[43mnp\u001b[49m\u001b[43m.\u001b[49m\u001b[43mloadtxt\u001b[49m\u001b[43m(\u001b[49m\u001b[43mfilename\u001b[49m\u001b[43m,\u001b[49m\u001b[43m \u001b[49m\u001b[43musecols\u001b[49m\u001b[43m=\u001b[49m\u001b[38;5;28;43mrange\u001b[39;49m\u001b[43m(\u001b[49m\u001b[32;43m1\u001b[39;49m\u001b[43m,\u001b[49m\u001b[43m \u001b[49m\u001b[32;43m9\u001b[39;49m\u001b[43m)\u001b[49m\u001b[43m,\u001b[49m\u001b[43m \u001b[49m\u001b[43mskiprows\u001b[49m\u001b[43m=\u001b[49m\u001b[32;43m1\u001b[39;49m\u001b[43m)\u001b[49m\n\u001b[32m     83\u001b[39m     \u001b[38;5;66;03m# Extract timestep number from filename and get time\u001b[39;00m\n\u001b[32m     84\u001b[39m     basename = os.path.basename(filename)\n",
      "\u001b[36mFile \u001b[39m\u001b[32m~/.pyenv/versions/pygtfcode-env/lib/python3.12/site-packages/numpy/lib/_npyio_impl.py:1395\u001b[39m, in \u001b[36mloadtxt\u001b[39m\u001b[34m(fname, dtype, comments, delimiter, converters, skiprows, usecols, unpack, ndmin, encoding, max_rows, quotechar, like)\u001b[39m\n\u001b[32m   1392\u001b[39m \u001b[38;5;28;01mif\u001b[39;00m \u001b[38;5;28misinstance\u001b[39m(delimiter, \u001b[38;5;28mbytes\u001b[39m):\n\u001b[32m   1393\u001b[39m     delimiter = delimiter.decode(\u001b[33m'\u001b[39m\u001b[33mlatin1\u001b[39m\u001b[33m'\u001b[39m)\n\u001b[32m-> \u001b[39m\u001b[32m1395\u001b[39m arr = \u001b[43m_read\u001b[49m\u001b[43m(\u001b[49m\u001b[43mfname\u001b[49m\u001b[43m,\u001b[49m\u001b[43m \u001b[49m\u001b[43mdtype\u001b[49m\u001b[43m=\u001b[49m\u001b[43mdtype\u001b[49m\u001b[43m,\u001b[49m\u001b[43m \u001b[49m\u001b[43mcomment\u001b[49m\u001b[43m=\u001b[49m\u001b[43mcomment\u001b[49m\u001b[43m,\u001b[49m\u001b[43m \u001b[49m\u001b[43mdelimiter\u001b[49m\u001b[43m=\u001b[49m\u001b[43mdelimiter\u001b[49m\u001b[43m,\u001b[49m\n\u001b[32m   1396\u001b[39m \u001b[43m            \u001b[49m\u001b[43mconverters\u001b[49m\u001b[43m=\u001b[49m\u001b[43mconverters\u001b[49m\u001b[43m,\u001b[49m\u001b[43m \u001b[49m\u001b[43mskiplines\u001b[49m\u001b[43m=\u001b[49m\u001b[43mskiprows\u001b[49m\u001b[43m,\u001b[49m\u001b[43m \u001b[49m\u001b[43musecols\u001b[49m\u001b[43m=\u001b[49m\u001b[43musecols\u001b[49m\u001b[43m,\u001b[49m\n\u001b[32m   1397\u001b[39m \u001b[43m            \u001b[49m\u001b[43munpack\u001b[49m\u001b[43m=\u001b[49m\u001b[43munpack\u001b[49m\u001b[43m,\u001b[49m\u001b[43m \u001b[49m\u001b[43mndmin\u001b[49m\u001b[43m=\u001b[49m\u001b[43mndmin\u001b[49m\u001b[43m,\u001b[49m\u001b[43m \u001b[49m\u001b[43mencoding\u001b[49m\u001b[43m=\u001b[49m\u001b[43mencoding\u001b[49m\u001b[43m,\u001b[49m\n\u001b[32m   1398\u001b[39m \u001b[43m            \u001b[49m\u001b[43mmax_rows\u001b[49m\u001b[43m=\u001b[49m\u001b[43mmax_rows\u001b[49m\u001b[43m,\u001b[49m\u001b[43m \u001b[49m\u001b[43mquote\u001b[49m\u001b[43m=\u001b[49m\u001b[43mquotechar\u001b[49m\u001b[43m)\u001b[49m\n\u001b[32m   1400\u001b[39m \u001b[38;5;28;01mreturn\u001b[39;00m arr\n",
      "\u001b[36mFile \u001b[39m\u001b[32m~/.pyenv/versions/pygtfcode-env/lib/python3.12/site-packages/numpy/lib/_npyio_impl.py:1022\u001b[39m, in \u001b[36m_read\u001b[39m\u001b[34m(fname, delimiter, comment, quote, imaginary_unit, usecols, skiplines, max_rows, converters, ndmin, unpack, dtype, encoding)\u001b[39m\n\u001b[32m   1020\u001b[39m     fname = os.fspath(fname)\n\u001b[32m   1021\u001b[39m \u001b[38;5;28;01mif\u001b[39;00m \u001b[38;5;28misinstance\u001b[39m(fname, \u001b[38;5;28mstr\u001b[39m):\n\u001b[32m-> \u001b[39m\u001b[32m1022\u001b[39m     fh = \u001b[43mnp\u001b[49m\u001b[43m.\u001b[49m\u001b[43mlib\u001b[49m\u001b[43m.\u001b[49m\u001b[43m_datasource\u001b[49m\u001b[43m.\u001b[49m\u001b[43mopen\u001b[49m\u001b[43m(\u001b[49m\u001b[43mfname\u001b[49m\u001b[43m,\u001b[49m\u001b[43m \u001b[49m\u001b[33;43m'\u001b[39;49m\u001b[33;43mrt\u001b[39;49m\u001b[33;43m'\u001b[39;49m\u001b[43m,\u001b[49m\u001b[43m \u001b[49m\u001b[43mencoding\u001b[49m\u001b[43m=\u001b[49m\u001b[43mencoding\u001b[49m\u001b[43m)\u001b[49m\n\u001b[32m   1023\u001b[39m     \u001b[38;5;28;01mif\u001b[39;00m encoding \u001b[38;5;129;01mis\u001b[39;00m \u001b[38;5;28;01mNone\u001b[39;00m:\n\u001b[32m   1024\u001b[39m         encoding = \u001b[38;5;28mgetattr\u001b[39m(fh, \u001b[33m'\u001b[39m\u001b[33mencoding\u001b[39m\u001b[33m'\u001b[39m, \u001b[33m'\u001b[39m\u001b[33mlatin1\u001b[39m\u001b[33m'\u001b[39m)\n",
      "\u001b[36mFile \u001b[39m\u001b[32m~/.pyenv/versions/pygtfcode-env/lib/python3.12/site-packages/numpy/lib/_datasource.py:192\u001b[39m, in \u001b[36mopen\u001b[39m\u001b[34m(path, mode, destpath, encoding, newline)\u001b[39m\n\u001b[32m    155\u001b[39m \u001b[38;5;250m\u001b[39m\u001b[33;03m\"\"\"\u001b[39;00m\n\u001b[32m    156\u001b[39m \u001b[33;03mOpen `path` with `mode` and return the file object.\u001b[39;00m\n\u001b[32m    157\u001b[39m \n\u001b[32m   (...)\u001b[39m\u001b[32m    188\u001b[39m \n\u001b[32m    189\u001b[39m \u001b[33;03m\"\"\"\u001b[39;00m\n\u001b[32m    191\u001b[39m ds = DataSource(destpath)\n\u001b[32m--> \u001b[39m\u001b[32m192\u001b[39m \u001b[38;5;28;01mreturn\u001b[39;00m \u001b[43mds\u001b[49m\u001b[43m.\u001b[49m\u001b[43mopen\u001b[49m\u001b[43m(\u001b[49m\u001b[43mpath\u001b[49m\u001b[43m,\u001b[49m\u001b[43m \u001b[49m\u001b[43mmode\u001b[49m\u001b[43m,\u001b[49m\u001b[43m \u001b[49m\u001b[43mencoding\u001b[49m\u001b[43m=\u001b[49m\u001b[43mencoding\u001b[49m\u001b[43m,\u001b[49m\u001b[43m \u001b[49m\u001b[43mnewline\u001b[49m\u001b[43m=\u001b[49m\u001b[43mnewline\u001b[49m\u001b[43m)\u001b[49m\n",
      "\u001b[36mFile \u001b[39m\u001b[32m~/.pyenv/versions/pygtfcode-env/lib/python3.12/site-packages/numpy/lib/_datasource.py:529\u001b[39m, in \u001b[36mDataSource.open\u001b[39m\u001b[34m(self, path, mode, encoding, newline)\u001b[39m\n\u001b[32m    526\u001b[39m     \u001b[38;5;28;01mreturn\u001b[39;00m _file_openers[ext](found, mode=mode,\n\u001b[32m    527\u001b[39m                               encoding=encoding, newline=newline)\n\u001b[32m    528\u001b[39m \u001b[38;5;28;01melse\u001b[39;00m:\n\u001b[32m--> \u001b[39m\u001b[32m529\u001b[39m     \u001b[38;5;28;01mraise\u001b[39;00m \u001b[38;5;167;01mFileNotFoundError\u001b[39;00m(\u001b[33mf\u001b[39m\u001b[33m\"\u001b[39m\u001b[38;5;132;01m{\u001b[39;00mpath\u001b[38;5;132;01m}\u001b[39;00m\u001b[33m not found.\u001b[39m\u001b[33m\"\u001b[39m)\n",
      "\u001b[31mFileNotFoundError\u001b[39m: /Users/yaronetokayer/YaleDrive/Research/SIDM/pygtfcode/examples/Model001/profile_0.dat not found."
     ]
    }
   ],
   "source": [
    "gtf.plot_snapshots(state)"
   ]
  },
  {
   "cell_type": "code",
   "execution_count": null,
   "id": "2f244c6f",
   "metadata": {},
   "outputs": [],
   "source": []
  }
 ],
 "metadata": {
  "kernelspec": {
   "display_name": "pygtfcode-env",
   "language": "python",
   "name": "python3"
  },
  "language_info": {
   "codemirror_mode": {
    "name": "ipython",
    "version": 3
   },
   "file_extension": ".py",
   "mimetype": "text/x-python",
   "name": "python",
   "nbconvert_exporter": "python",
   "pygments_lexer": "ipython3",
   "version": "3.12.4"
  }
 },
 "nbformat": 4,
 "nbformat_minor": 5
}
